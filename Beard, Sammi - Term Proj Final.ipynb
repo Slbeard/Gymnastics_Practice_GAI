{
 "cells": [
  {
   "cell_type": "markdown",
   "id": "75551bc3-c070-406c-bd2f-16567a019c4a",
   "metadata": {},
   "source": [
    "### Sammi Beard\n",
    "##### DSC 670 | Term Project Milestone 3"
   ]
  },
  {
   "cell_type": "markdown",
   "id": "997d403c-6e1e-4b5f-b927-9ef4a14bc2eb",
   "metadata": {},
   "source": [
    "#### Setup"
   ]
  },
  {
   "cell_type": "markdown",
   "id": "401d5fd0-4f73-4b49-af6b-4f03dfdd02d4",
   "metadata": {},
   "source": [
    "##### Import Libraries"
   ]
  },
  {
   "cell_type": "code",
   "execution_count": 1,
   "id": "5235cb75-f7e3-4be0-a029-38590dd51211",
   "metadata": {},
   "outputs": [],
   "source": [
    "import os \n",
    "from dotenv import load_dotenv\n",
    "import json\n",
    "import openai\n",
    "import datetime\n",
    "import sys\n",
    "import time\n",
    "import requests"
   ]
  },
  {
   "cell_type": "markdown",
   "id": "0b39d3db-c6eb-4b0f-bb31-d92468a052e6",
   "metadata": {},
   "source": [
    "##### Connect to API\n",
    "I imported dotenv to securely manage environment variables and avoid hardcoding sensitive credentials like API keys directly into the code."
   ]
  },
  {
   "cell_type": "code",
   "execution_count": 2,
   "id": "70cbac66-95ed-476e-9583-390ddb415db2",
   "metadata": {},
   "outputs": [],
   "source": [
    "load_dotenv()\n",
    "\n",
    "# Access the environment variables from the .env file\n",
    "openai.api_key = os.environ['OPENAI_API_KEY']"
   ]
  },
  {
   "cell_type": "markdown",
   "id": "757bb56b-2196-4b6a-a2f6-0fef8b7153dd",
   "metadata": {},
   "source": [
    "##### Files\n",
    "Since the assignment was not about building the dataset, I used the dataset from the respository that goes with the book."
   ]
  },
  {
   "cell_type": "code",
   "execution_count": 3,
   "id": "ef2a8e76-0855-446d-abe7-df138dc16df4",
   "metadata": {},
   "outputs": [],
   "source": [
    "file_path = \"gymnastics_train.jsonl\""
   ]
  },
  {
   "cell_type": "markdown",
   "id": "d5b1deee-1a32-46c8-b6d6-e62a36e8a61c",
   "metadata": {},
   "source": [
    "I created a function to validate the JSONL file because any formatting errors could cause the fine-tuning process to fail. This ensures that the file adheres to the required JSON schema before proceeding further."
   ]
  },
  {
   "cell_type": "code",
   "execution_count": 4,
   "id": "565da526-9dc1-4507-a376-427ef3531bb2",
   "metadata": {},
   "outputs": [],
   "source": [
    "headers = {\n",
    "    \"Authorization\": f\"Bearer {openai.api_key}\"\n",
    "}"
   ]
  },
  {
   "cell_type": "code",
   "execution_count": 5,
   "id": "bab31fc1-75a6-4ac4-86c8-36fd91d11d90",
   "metadata": {},
   "outputs": [],
   "source": [
    "upload_response = requests.post(\n",
    "    \"https://api.openai.com/v1/files\",\n",
    "    headers=headers,\n",
    "    files={\"file\": (\"gymnastics_train.jsonl\", open(\"gymnastics_train.jsonl\", \"rb\"))},\n",
    "    data={\"purpose\": \"fine-tune\"}\n",
    ")"
   ]
  },
  {
   "cell_type": "code",
   "execution_count": 6,
   "id": "4f77eefd-7eb2-4636-82fd-cdad025a4e4b",
   "metadata": {},
   "outputs": [
    {
     "name": "stdout",
     "output_type": "stream",
     "text": [
      "{'object': 'file', 'id': 'file-4QqbYL7feyA5UoXjtLmeM3', 'purpose': 'fine-tune', 'filename': 'gymnastics_train.jsonl', 'bytes': 25050, 'created_at': 1740947706, 'expires_at': None, 'status': 'processed', 'status_details': None}\n"
     ]
    }
   ],
   "source": [
    "response_data = upload_response.json()\n",
    "print(response_data)"
   ]
  },
  {
   "cell_type": "code",
   "execution_count": 7,
   "id": "fe971688-0109-4ec6-9c9a-45749ae37a2e",
   "metadata": {},
   "outputs": [
    {
     "name": "stdout",
     "output_type": "stream",
     "text": [
      "{'object': 'file', 'id': 'file-4QqbYL7feyA5UoXjtLmeM3', 'purpose': 'fine-tune', 'filename': 'gymnastics_train.jsonl', 'bytes': 25050, 'created_at': 1740947706, 'expires_at': None, 'status': 'processed', 'status_details': None}\n"
     ]
    }
   ],
   "source": [
    "file_id = response_data[\"id\"]\n",
    "\n",
    "response = requests.get(\n",
    "    f\"https://api.openai.com/v1/files/{file_id}\",\n",
    "    headers=headers\n",
    ")\n",
    "\n",
    "file_status = response.json()\n",
    "print(file_status)"
   ]
  },
  {
   "cell_type": "code",
   "execution_count": 8,
   "id": "bb54b2ff-a2b7-46eb-aaab-728e8cc75fad",
   "metadata": {},
   "outputs": [
    {
     "name": "stdout",
     "output_type": "stream",
     "text": [
      "{'object': 'fine_tuning.job', 'id': 'ftjob-sIZ8iKplOXcwrIniVurDmOVg', 'model': 'gpt-3.5-turbo-0125', 'created_at': 1740947708, 'finished_at': None, 'fine_tuned_model': None, 'organization_id': 'org-kYyBAwWpPRWIx9kUZilHZ0Po', 'result_files': [], 'status': 'validating_files', 'validation_file': None, 'training_file': 'file-4QqbYL7feyA5UoXjtLmeM3', 'hyperparameters': {'n_epochs': 'auto', 'batch_size': 'auto', 'learning_rate_multiplier': 'auto'}, 'trained_tokens': None, 'error': {}, 'user_provided_suffix': None, 'seed': 1585263679, 'estimated_finish': None, 'integrations': [], 'method': {'type': 'supervised', 'supervised': {'hyperparameters': {'batch_size': 'auto', 'learning_rate_multiplier': 'auto', 'n_epochs': 'auto'}}}}\n"
     ]
    }
   ],
   "source": [
    "data = {\n",
    "    \"training_file\": file_id,\n",
    "    \"model\": \"gpt-3.5-turbo\"\n",
    "}\n",
    "\n",
    "response = requests.post(\n",
    "    \"https://api.openai.com/v1/fine_tuning/jobs\",\n",
    "    headers=headers,\n",
    "    json=data\n",
    ")\n",
    "\n",
    "fine_tuning_job = response.json()\n",
    "print(fine_tuning_job)\n"
   ]
  },
  {
   "cell_type": "markdown",
   "id": "e80bb144-5b8f-4acc-a5b6-45288a0426d7",
   "metadata": {},
   "source": [
    "**I'm going to do 10 minute intervals this time.  This section will be a little longer with the REST API meathod, but essentially functions the same way.**"
   ]
  },
  {
   "cell_type": "code",
   "execution_count": 9,
   "id": "a3955ea9-d9b8-4113-ba58-328803cbd713",
   "metadata": {},
   "outputs": [
    {
     "name": "stdout",
     "output_type": "stream",
     "text": [
      "Current status: validating_files. Waiting for completion...\n",
      "Current status: succeeded. Waiting for completion...\n",
      "\n",
      "Model created, Model ID: ft:gpt-3.5-turbo-0125:personal::B6kPTwVp\n"
     ]
    }
   ],
   "source": [
    "job_id = fine_tuning_job[\"id\"]\n",
    "model_id = None\n",
    "\n",
    "# Check the job status periodically until it's finished\n",
    "while True:\n",
    "    response = requests.get(\n",
    "        f\"https://api.openai.com/v1/fine_tuning/jobs/{job_id}\",\n",
    "        headers=headers\n",
    "    )\n",
    "\n",
    "    job_status = response.json()\n",
    "    print(f\"Current status: {job_status['status']}. Waiting for completion...\")\n",
    "\n",
    "    if job_status['status'] in [\"succeeded\", \"failed\"]:\n",
    "        break\n",
    "\n",
    "    time.sleep(600)  # Wait for 10 minutes before checking again\n",
    "\n",
    "# Once the job is finished, proceed\n",
    "if job_status['status'] == \"succeeded\":\n",
    "    model_id = job_status['fine_tuned_model']  # Access the fine-tuned model\n",
    "    print(f\"\\nModel created, Model ID: {model_id}\")\n",
    "else:\n",
    "    print(\"\\n***** DO NOT PROCEED YET *****\\nThe fine-tuning job failed.\")"
   ]
  },
  {
   "cell_type": "code",
   "execution_count": 10,
   "id": "f7556330-a2fc-4273-b88d-13adbb94c8b4",
   "metadata": {},
   "outputs": [
    {
     "name": "stdout",
     "output_type": "stream",
     "text": [
      "## 50-Minute Practice Plan\n",
      "\n",
      "**Skill Focus:** Intermediate Girls\n",
      "\n",
      "| Time | Activity |\n",
      "| ---- | -------- |\n",
      "| 0:00 - 0:05 | **Warm-Up**<br>1. Jog around the floor<br>2. Stretching |\n",
      "| 0:05 - 0:10 | **Trampoline**<br>1. Seat drops<br>2. Tuck jumps |\n",
      "| 0:10 - 0:20 | **Floor**<br>1. Round-offs<br>2. Backbend kickovers |\n",
      "| 0:20 - 0:30 | **Bars**<br>1. Pull-overs<br>2. Back hip circles |\n",
      "| 0:30 - 0:35 | **Trampoline**<br>1. Pike jumps<br>2. Straddle jumps |\n",
      "| 0:35 - 0:40 | **Floor**<br>1. Cartwheels<br>2. Handstands |\n",
      "| 0:40 - 0:45 | **Bars**<br>1. Front hip circles<br>2. Glide swings |\n",
      "| 0:45 - 0:50 | **Cool Down**<br>1. Stretching<br>2. Good job talk |\n"
     ]
    }
   ],
   "source": [
    "if model_id:\n",
    "    url = \"https://api.openai.com/v1/chat/completions\"\n",
    "    data = {\n",
    "        \"model\": model_id,\n",
    "        \"temperature\": 0.0,\n",
    "        \"messages\": [\n",
    "            {\"role\":\"system\",\"content\":\"You are an expert gymnastics coach.\"},\n",
    "            {\"role\":\"user\",\"content\":\"Create a 50-minute gymnastics practice plan for intermediate girls. They have trampoline, floor, and bars.\"}\n",
    "        ]\n",
    "    }\n",
    "\n",
    "    response = requests.post(url, headers=headers, json=data)\n",
    "    \n",
    "    if response.status_code == 200:\n",
    "        completion = response.json()\n",
    "        print(completion['choices'][0]['message']['content'])\n",
    "    else:\n",
    "        print(f\"Error: {response.status_code} - {response.text}\")\n",
    "else:\n",
    "    print(\"The model isn't ready yet... You need to ensure the model is ready and obtain the model ID.\")"
   ]
  },
  {
   "cell_type": "markdown",
   "id": "d4c8787b-41d9-4220-a3fa-3545c08d8078",
   "metadata": {},
   "source": [
    "This is not what I wanted, let's adjust the file and try again"
   ]
  },
  {
   "cell_type": "code",
   "execution_count": 11,
   "id": "173aadb5-6be3-4823-aff6-faeaccdd5f6c",
   "metadata": {},
   "outputs": [],
   "source": [
    "upload_response = requests.post(\n",
    "    \"https://api.openai.com/v1/files\",\n",
    "    headers=headers,\n",
    "    files={\"file\": (\"gymnastics_train1.jsonl\", open(\"gymnastics_train1.jsonl\", \"rb\"))},\n",
    "    data={\"purpose\": \"fine-tune\"}\n",
    ")"
   ]
  },
  {
   "cell_type": "code",
   "execution_count": 12,
   "id": "fef42ae1-0fdd-42b6-b030-3313ca4b4936",
   "metadata": {},
   "outputs": [
    {
     "name": "stdout",
     "output_type": "stream",
     "text": [
      "{'object': 'file', 'id': 'file-Kasd9RfTaWQjnoo1XZpGXR', 'purpose': 'fine-tune', 'filename': 'gymnastics_train1.jsonl', 'bytes': 11018, 'created_at': 1740948319, 'expires_at': None, 'status': 'processed', 'status_details': None}\n"
     ]
    }
   ],
   "source": [
    "response_data = upload_response.json()\n",
    "print(response_data)"
   ]
  },
  {
   "cell_type": "code",
   "execution_count": 13,
   "id": "59fa9b9c-05db-4560-9dfb-6d26236d89e2",
   "metadata": {},
   "outputs": [
    {
     "name": "stdout",
     "output_type": "stream",
     "text": [
      "{'object': 'file', 'id': 'file-Kasd9RfTaWQjnoo1XZpGXR', 'purpose': 'fine-tune', 'filename': 'gymnastics_train1.jsonl', 'bytes': 11018, 'created_at': 1740948319, 'expires_at': None, 'status': 'processed', 'status_details': None}\n"
     ]
    }
   ],
   "source": [
    "file_id = response_data[\"id\"]\n",
    "\n",
    "response = requests.get(\n",
    "    f\"https://api.openai.com/v1/files/{file_id}\",\n",
    "    headers=headers\n",
    ")\n",
    "\n",
    "file_status = response.json()\n",
    "print(file_status)"
   ]
  },
  {
   "cell_type": "code",
   "execution_count": 14,
   "id": "aa9d5d78-9f19-4ea2-875f-cb17f8fb5050",
   "metadata": {},
   "outputs": [
    {
     "name": "stdout",
     "output_type": "stream",
     "text": [
      "{'object': 'fine_tuning.job', 'id': 'ftjob-VSar9JNuPxCQCRttS3CeVhF0', 'model': 'gpt-3.5-turbo-0125', 'created_at': 1740948320, 'finished_at': None, 'fine_tuned_model': None, 'organization_id': 'org-kYyBAwWpPRWIx9kUZilHZ0Po', 'result_files': [], 'status': 'validating_files', 'validation_file': None, 'training_file': 'file-Kasd9RfTaWQjnoo1XZpGXR', 'hyperparameters': {'n_epochs': 'auto', 'batch_size': 'auto', 'learning_rate_multiplier': 'auto'}, 'trained_tokens': None, 'error': {}, 'user_provided_suffix': None, 'seed': 1043080509, 'estimated_finish': None, 'integrations': [], 'method': {'type': 'supervised', 'supervised': {'hyperparameters': {'batch_size': 'auto', 'learning_rate_multiplier': 'auto', 'n_epochs': 'auto'}}}}\n"
     ]
    }
   ],
   "source": [
    "data = {\n",
    "    \"training_file\": file_id,\n",
    "    \"model\": \"gpt-3.5-turbo\"\n",
    "}\n",
    "\n",
    "response = requests.post(\n",
    "    \"https://api.openai.com/v1/fine_tuning/jobs\",\n",
    "    headers=headers,\n",
    "    json=data\n",
    ")\n",
    "\n",
    "fine_tuning_job = response.json()\n",
    "print(fine_tuning_job)\n"
   ]
  },
  {
   "cell_type": "code",
   "execution_count": 15,
   "id": "a40608cb-1c22-49fd-83d1-cbb89c6d44f1",
   "metadata": {},
   "outputs": [
    {
     "name": "stdout",
     "output_type": "stream",
     "text": [
      "Current status: validating_files. Waiting for completion...\n",
      "Current status: succeeded. Waiting for completion...\n",
      "\n",
      "Model created, Model ID: ft:gpt-3.5-turbo-0125:personal::B6kbEILJ\n"
     ]
    }
   ],
   "source": [
    "job_id = fine_tuning_job[\"id\"]\n",
    "model_id = None\n",
    "\n",
    "# Check the job status periodically until it's finished\n",
    "while True:\n",
    "    response = requests.get(\n",
    "        f\"https://api.openai.com/v1/fine_tuning/jobs/{job_id}\",\n",
    "        headers=headers\n",
    "    )\n",
    "\n",
    "    job_status = response.json()\n",
    "    print(f\"Current status: {job_status['status']}. Waiting for completion...\")\n",
    "\n",
    "    if job_status['status'] in [\"succeeded\", \"failed\"]:\n",
    "        break\n",
    "\n",
    "    time.sleep(600)  # Wait for 10 minutes before checking again\n",
    "\n",
    "# Once the job is finished, proceed\n",
    "if job_status['status'] == \"succeeded\":\n",
    "    model_id = job_status['fine_tuned_model']  # Access the fine-tuned model\n",
    "    print(f\"\\nModel created, Model ID: {model_id}\")\n",
    "else:\n",
    "    print(\"\\n***** DO NOT PROCEED YET *****\\nThe fine-tuning job failed.\")"
   ]
  },
  {
   "cell_type": "code",
   "execution_count": 16,
   "id": "134260e1-d552-4cb3-8d01-a51d425e94a2",
   "metadata": {},
   "outputs": [
    {
     "name": "stdout",
     "output_type": "stream",
     "text": [
      "## 50-Minute Intermediate Girls Practice Plan:\n",
      "\n",
      "**Warm Up (6 min):**\n",
      "- 1 minute jog\n",
      "- 1 minute stretch\n",
      "- 1 minute pike sit and reach\n",
      "- 1 minute straddle sit and reach\n",
      "- 1 minute bridge\n",
      "- 1 minute split sit\n",
      "\n",
      "**Trampoline (12 min):**\n",
      "- 3 jumps to front drop\n",
      "- 3 jumps to seat drop\n",
      "- 3 jumps to back drop\n",
      "- 3 jumps to stomach drop\n",
      "\n",
      "**Floor (16 min):**\n",
      "- Round off rebound\n",
      "- Handstand forward roll\n",
      "- Cartwheel on low beam\n",
      "- Handstand against wall\n",
      "\n",
      "**Bars (12 min):**\n",
      "- 3 chin ups\n",
      "- 3 pull overs\n",
      "- 3 casts to 45 degree\n",
      "- 3 back hip circles\n",
      "\n",
      "**Games (4 min):**\n",
      "- Simon says\n",
      "\n",
      "**Dismissal (2 min):**\n",
      "- Good job Song\n"
     ]
    }
   ],
   "source": [
    "if model_id:\n",
    "    url = \"https://api.openai.com/v1/chat/completions\"\n",
    "    data = {\n",
    "        \"model\": model_id,\n",
    "        \"temperature\": 0.0,\n",
    "        \"messages\": [\n",
    "            {\"role\":\"system\",\"content\":\"You are an expert gymnastics coach.\"},\n",
    "            {\"role\":\"user\",\"content\":\"Create a 50-minute gymnastics practice plan for intermediate girls. They have trampoline, floor, and bars.\"}\n",
    "        ]\n",
    "    }\n",
    "\n",
    "    response = requests.post(url, headers=headers, json=data)\n",
    "    \n",
    "    if response.status_code == 200:\n",
    "        completion = response.json()\n",
    "        print(completion['choices'][0]['message']['content'])\n",
    "    else:\n",
    "        print(f\"Error: {response.status_code} - {response.text}\")\n",
    "else:\n",
    "    print(\"The model isn't ready yet... You need to ensure the model is ready and obtain the model ID.\")"
   ]
  },
  {
   "cell_type": "markdown",
   "id": "07e66e1e-08cf-4ab9-a917-2db8345734ad",
   "metadata": {},
   "source": [
    "This still isn't what I want.  Let me try again."
   ]
  },
  {
   "cell_type": "code",
   "execution_count": 17,
   "id": "5a6b627a-e49d-45fe-88d4-22948a25c066",
   "metadata": {},
   "outputs": [],
   "source": [
    "upload_response = requests.post(\n",
    "    \"https://api.openai.com/v1/files\",\n",
    "    headers=headers,\n",
    "    files={\"file\": (\"gymnastics_train2.jsonl\", open(\"gymnastics_train2.jsonl\", \"rb\"))},\n",
    "    data={\"purpose\": \"fine-tune\"}\n",
    ")"
   ]
  },
  {
   "cell_type": "code",
   "execution_count": 18,
   "id": "8fc44a22-fd43-4cbb-a798-1f4a8c130ff3",
   "metadata": {},
   "outputs": [
    {
     "name": "stdout",
     "output_type": "stream",
     "text": [
      "{'object': 'file', 'id': 'file-GFEpHk4JZ2NrGqSSHvg8py', 'purpose': 'fine-tune', 'filename': 'gymnastics_train2.jsonl', 'bytes': 59131, 'created_at': 1740948928, 'expires_at': None, 'status': 'processed', 'status_details': None}\n"
     ]
    }
   ],
   "source": [
    "response_data = upload_response.json()\n",
    "print(response_data)"
   ]
  },
  {
   "cell_type": "code",
   "execution_count": 19,
   "id": "7392048b-7206-457e-bcb3-05af5f2bd1c3",
   "metadata": {},
   "outputs": [
    {
     "name": "stdout",
     "output_type": "stream",
     "text": [
      "{'object': 'file', 'id': 'file-GFEpHk4JZ2NrGqSSHvg8py', 'purpose': 'fine-tune', 'filename': 'gymnastics_train2.jsonl', 'bytes': 59131, 'created_at': 1740948928, 'expires_at': None, 'status': 'processed', 'status_details': None}\n"
     ]
    }
   ],
   "source": [
    "file_id = response_data[\"id\"]\n",
    "\n",
    "response = requests.get(\n",
    "    f\"https://api.openai.com/v1/files/{file_id}\",\n",
    "    headers=headers\n",
    ")\n",
    "\n",
    "file_status = response.json()\n",
    "print(file_status)"
   ]
  },
  {
   "cell_type": "code",
   "execution_count": 20,
   "id": "7854eac8-eac9-4d28-bcc5-6707eda69f47",
   "metadata": {},
   "outputs": [
    {
     "name": "stdout",
     "output_type": "stream",
     "text": [
      "{'object': 'fine_tuning.job', 'id': 'ftjob-bF4WRaaGVR57xEBU8qqERVsm', 'model': 'gpt-3.5-turbo-0125', 'created_at': 1740948929, 'finished_at': None, 'fine_tuned_model': None, 'organization_id': 'org-kYyBAwWpPRWIx9kUZilHZ0Po', 'result_files': [], 'status': 'validating_files', 'validation_file': None, 'training_file': 'file-GFEpHk4JZ2NrGqSSHvg8py', 'hyperparameters': {'n_epochs': 'auto', 'batch_size': 'auto', 'learning_rate_multiplier': 'auto'}, 'trained_tokens': None, 'error': {}, 'user_provided_suffix': None, 'seed': 823818013, 'estimated_finish': None, 'integrations': [], 'method': {'type': 'supervised', 'supervised': {'hyperparameters': {'batch_size': 'auto', 'learning_rate_multiplier': 'auto', 'n_epochs': 'auto'}}}}\n"
     ]
    }
   ],
   "source": [
    "data = {\n",
    "    \"training_file\": file_id,\n",
    "    \"model\": \"gpt-3.5-turbo\"\n",
    "}\n",
    "\n",
    "response = requests.post(\n",
    "    \"https://api.openai.com/v1/fine_tuning/jobs\",\n",
    "    headers=headers,\n",
    "    json=data\n",
    ")\n",
    "\n",
    "fine_tuning_job = response.json()\n",
    "print(fine_tuning_job)\n"
   ]
  },
  {
   "cell_type": "code",
   "execution_count": 21,
   "id": "de235428-407c-4863-827b-d37a5728503a",
   "metadata": {},
   "outputs": [
    {
     "name": "stdout",
     "output_type": "stream",
     "text": [
      "Current status: validating_files. Waiting for completion...\n",
      "Current status: succeeded. Waiting for completion...\n",
      "\n",
      "Model created, Model ID: ft:gpt-3.5-turbo-0125:personal::B6kk1I2j\n"
     ]
    }
   ],
   "source": [
    "job_id = fine_tuning_job[\"id\"]\n",
    "model_id = None\n",
    "\n",
    "# Check the job status periodically until it's finished\n",
    "while True:\n",
    "    response = requests.get(\n",
    "        f\"https://api.openai.com/v1/fine_tuning/jobs/{job_id}\",\n",
    "        headers=headers\n",
    "    )\n",
    "\n",
    "    job_status = response.json()\n",
    "    print(f\"Current status: {job_status['status']}. Waiting for completion...\")\n",
    "\n",
    "    if job_status['status'] in [\"succeeded\", \"failed\"]:\n",
    "        break\n",
    "\n",
    "    time.sleep(600)  # Wait for 10 minutes before checking again\n",
    "\n",
    "# Once the job is finished, proceed\n",
    "if job_status['status'] == \"succeeded\":\n",
    "    model_id = job_status['fine_tuned_model']  # Access the fine-tuned model\n",
    "    print(f\"\\nModel created, Model ID: {model_id}\")\n",
    "else:\n",
    "    print(\"\\n***** DO NOT PROCEED YET *****\\nThe fine-tuning job failed.\")"
   ]
  },
  {
   "cell_type": "code",
   "execution_count": 22,
   "id": "d776f118-eb95-49fa-9c69-c8ba95b82757",
   "metadata": {},
   "outputs": [
    {
     "name": "stdout",
     "output_type": "stream",
     "text": [
      "## 90-Minute Intermediate Recreational Girls Practice Plan\n",
      "\n",
      "### Warm Up (8 minutes):\n",
      "- 20 jumping jacks\n",
      "- Arm circles forward and backward\n",
      "- Pike stretch\n",
      "- Shoulder stretch\n",
      "- Bridge with 10 rocks and 10 kicks\n",
      "- Dynamic leg swings\n",
      "\n",
      "---\n",
      "\n",
      "### Trampoline (20 minutes):\n",
      "\n",
      "| **Station**            | **Equipment**            | **Execution**                                                               | **Focus**                  |\n",
      "|------------------------|--------------------------|-----------------------------------------------------------------------------|----------------------------|\n",
      "| Seat Drops             | Trampoline                | Sit, bounce, and land in a seated position, focusing on good form           | Core and leg strength      |\n",
      "| Tuck Jumps             | Trampoline                | Jump and tuck knees to chest before landing                                 | Height and body control    |\n",
      "| Straddle Jumps         | Trampoline                | Jump and open legs to a straddle position before landing                    | Leg power and coordination |\n",
      "| Pike Jump to Backdrop  | Trampoline                | Jump, lift legs to pike position, and fall back into a safe backdrop         | Body control and fear factor|\n",
      "| Front Tucks (optional) | Trampoline, spotting block| Work with coach on progressions and drills for front tuck technique         | Advanced skill development |\n",
      "\n",
      "---\n",
      "\n",
      "### Floor Exercise (30 minutes):\n",
      "\n",
      "| **Station**            | **Equipment**            | **Execution**                                                               | **Focus**                  |\n",
      "|------------------------|--------------------------|-----------------------------------------------------------------------------|----------------------------|\n",
      "| Handstand Step-Downs   | Wall                      | Kick up to handstand and control step down one foot at a time               | Core strength, balance     |\n",
      "| Roundoff Rebounds      | Panel mat, wedge          | Roundoff onto wedge, rebound to feet                                       | Power in legs, rebound technique|\n",
      "| Front Walkovers        | Wedge                     | Kick to handstand, bridge down, step out                                    | Controlled descent, leg push|\n",
      "| Back Handspring Drills | Panel mat                 | - Snap down drills<br>- Handstand snapdowns<br>- Back handspring with spot  | Fast snap, strong push, arm coordination|\n",
      "| Front Handsprings      | Panel mat                 | Start in handstand, roll over with controlled landing                      | Arm punch, leg snap, body position|\n",
      "| Routine Construction   | Floor space               | Connect skills, work on dance elements, and focus on presentation           | Putting skills together, performance quality|\n",
      "\n",
      "---\n",
      "\n",
      "### Bars (25 minutes):\n",
      "\n",
      "| **Station**            | **Equipment**            | **Execution**                                                               | **Focus**                  |\n",
      "|------------------------|--------------------------|-----------------------------------------------------------------------------|----------------------------|\n",
      "| Kip Progressions       | Bar, resistance band      | - Kip swings with band<br>- Kip pulls<br>- Cast to handstand with spot      | Core and shoulder engagement|\n",
      "| Glide Swings           | Low bar                   | Hollow body position, swing with control                                   | Rhythm, core engagement    |\n",
      "| Cast Handstands        | High bar                  | Start in a front support, small casts building up to handstand             | Arm strength, balance      |\n",
      "| Tap Swings             | High bar                  | Swing with emphasis on snapping legs together and achieving a strong hollow| Build swing power, prepare for release|\n",
      "| Dismounts              | High bar, landing mat     | Practice sticking back tuck or layout dismounts                            | Body control, air awareness|\n",
      "\n",
      "---\n",
      "\n",
      "### Conditioning & Cool Down (7 minutes):\n",
      "- 10 V-ups\n",
      "- 10 Push-ups\n",
      "- 10 Squats\n",
      "- Shoulder stretch\n",
      "- Pike stretch\n",
      "- Deep breathing exercises\n",
      "\n"
     ]
    }
   ],
   "source": [
    "if model_id:\n",
    "    url = \"https://api.openai.com/v1/chat/completions\"\n",
    "    data = {\n",
    "        \"model\": model_id,\n",
    "        \"temperature\": 0.0,\n",
    "        \"messages\": [\n",
    "            {\"role\":\"system\",\"content\":\"You are an expert gymnastics coach.\"},\n",
    "            {\"role\":\"user\",\"content\":\"Create a 90-minute gymnastics practice plan for intermediate girls. They have trampoline, floor, and bars.\"}\n",
    "        ]\n",
    "    }\n",
    "\n",
    "    response = requests.post(url, headers=headers, json=data)\n",
    "    \n",
    "    if response.status_code == 200:\n",
    "        completion = response.json()\n",
    "        print(completion['choices'][0]['message']['content'])\n",
    "    else:\n",
    "        print(f\"Error: {response.status_code} - {response.text}\")\n",
    "else:\n",
    "    print(\"The model isn't ready yet... You need to ensure the model is ready and obtain the model ID.\")"
   ]
  },
  {
   "cell_type": "markdown",
   "id": "740cee18-825a-40bb-ae55-b8b3161373de",
   "metadata": {},
   "source": [
    "Yay! This is more what I was looking for."
   ]
  },
  {
   "cell_type": "code",
   "execution_count": 27,
   "id": "adb51c1f-f726-4ba7-a3ea-ef33a6c9d8d3",
   "metadata": {},
   "outputs": [
    {
     "name": "stdout",
     "output_type": "stream",
     "text": [
      "Fine-Tuning Job ID: ftjob-bF4WRaaGVR57xEBU8qqERVsm\n",
      "Model: gpt-3.5-turbo-0125\n",
      "Fine-Tuned Model: ft:gpt-3.5-turbo-0125:personal::B6kk1I2j\n",
      "Status: succeeded\n",
      "Created At: 1740948929\n",
      "Finished At: 1740949340\n",
      "Training File ID: file-GFEpHk4JZ2NrGqSSHvg8py\n",
      "Trained Tokens: 80360\n",
      "Hyperparameters:\n",
      "  - n_epochs: 8\n",
      "  - batch_size: 1\n",
      "  - learning_rate_multiplier: 2\n"
     ]
    }
   ],
   "source": [
    "response = requests.get(\n",
    "    f\"https://api.openai.com/v1/fine_tuning/jobs/{job_id}\",\n",
    "    headers=headers\n",
    ")\n",
    "# Assuming `response` is your API response object\n",
    "data = response.json()\n",
    "\n",
    "print(f\"Fine-Tuning Job ID: {data['id']}\")\n",
    "print(f\"Model: {data['model']}\")\n",
    "print(f\"Fine-Tuned Model: {data.get('fine_tuned_model', 'Not available')}\")\n",
    "print(f\"Status: {data['status']}\")\n",
    "print(f\"Created At: {data['created_at']}\")\n",
    "print(f\"Finished At: {data.get('finished_at', 'Still running')}\")\n",
    "print(f\"Training File ID: {data['training_file']}\")\n",
    "print(f\"Trained Tokens: {data['trained_tokens']}\")\n",
    "print(\"Hyperparameters:\")\n",
    "for key, value in data[\"hyperparameters\"].items():\n",
    "    print(f\"  - {key}: {value}\")"
   ]
  },
  {
   "cell_type": "code",
   "execution_count": null,
   "id": "5ffeae88-0e66-402f-9382-414ac16c9696",
   "metadata": {},
   "outputs": [],
   "source": []
  },
  {
   "cell_type": "markdown",
   "id": "bdabf066-0ce5-47bb-9739-283b0d338ad5",
   "metadata": {},
   "source": [
    "#### References\n",
    "\n",
    "OpenAI. (n.d.). Fine-tuning guide. OpenAI. Retrieved January 26, 2025, from https://platform.openai.com/docs/guides/fine-tuning\n",
    "\n",
    "Bahree, M. (2023). Listing 9.1: emoji_ft_train.jsonl. In GenAI Book (Chapter 9). Retrieved January 26, 2025, from https://github.com/bahree/GenAIBook/blob/main/chapters/ch09/Listing-9.1-emoji_ft_train.jsonl\n",
    "\n",
    "Suliot, M. (2023). Open AI fine-tuning example: Jupyter notebook. Retrieved January 26, 2025, from https://github.com/msuliot/jupyter_fine_tuning/blob/main/open_ai_fine_tuning.ipynb\n",
    "\n",
    "OpenAI. (2023, December 14). Discussion: OpenAI Python - Fine-tuning model errors. OpenAI GitHub Discussions. Retrieved January 26, 2025, from https://github.com/openai/openai-python/discussions/742"
   ]
  },
  {
   "cell_type": "code",
   "execution_count": null,
   "id": "9e1f2abd-623b-468b-82d0-3078d0d4b4a7",
   "metadata": {},
   "outputs": [],
   "source": []
  }
 ],
 "metadata": {
  "kernelspec": {
   "display_name": "Python 3 (ipykernel)",
   "language": "python",
   "name": "python3"
  },
  "language_info": {
   "codemirror_mode": {
    "name": "ipython",
    "version": 3
   },
   "file_extension": ".py",
   "mimetype": "text/x-python",
   "name": "python",
   "nbconvert_exporter": "python",
   "pygments_lexer": "ipython3",
   "version": "3.9.18"
  }
 },
 "nbformat": 4,
 "nbformat_minor": 5
}
